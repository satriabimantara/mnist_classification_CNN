{
 "cells": [
  {
   "cell_type": "markdown",
   "id": "89e0658d",
   "metadata": {},
   "source": [
    "# Install Required Libraries"
   ]
  },
  {
   "cell_type": "code",
   "execution_count": 36,
   "id": "aceab7b3",
   "metadata": {},
   "outputs": [],
   "source": [
    "from keras.datasets import mnist\n",
    "from keras.utils.np_utils import to_categorical\n",
    "from keras.models import load_model\n",
    "import numpy as np\n",
    "import matplotlib.pyplot as plt"
   ]
  },
  {
   "cell_type": "markdown",
   "id": "775da290",
   "metadata": {},
   "source": [
    "# Dataset Loading"
   ]
  },
  {
   "cell_type": "code",
   "execution_count": 3,
   "id": "3e97f636",
   "metadata": {},
   "outputs": [],
   "source": [
    "(X_train,y_train), (X_test, y_test) = mnist.load_data()"
   ]
  },
  {
   "cell_type": "code",
   "execution_count": 8,
   "id": "59802034",
   "metadata": {},
   "outputs": [
    {
     "data": {
      "text/plain": [
       "((60000, 28, 28), (10000, 28, 28))"
      ]
     },
     "execution_count": 8,
     "metadata": {},
     "output_type": "execute_result"
    }
   ],
   "source": [
    "X_train.shape, X_test.shape"
   ]
  },
  {
   "cell_type": "code",
   "execution_count": 16,
   "id": "890949f3",
   "metadata": {},
   "outputs": [],
   "source": [
    "n_sampel_train = X_train.shape[0]\n",
    "n_sampel_test = X_test.shape[0]"
   ]
  },
  {
   "cell_type": "code",
   "execution_count": 11,
   "id": "ec98aa13",
   "metadata": {},
   "outputs": [
    {
     "data": {
      "text/plain": [
       "array([0, 1, 2, 3, 4, 5, 6, 7, 8, 9], dtype=uint8)"
      ]
     },
     "execution_count": 11,
     "metadata": {},
     "output_type": "execute_result"
    }
   ],
   "source": [
    "np.unique(y_train)"
   ]
  },
  {
   "cell_type": "markdown",
   "id": "dc87be18",
   "metadata": {},
   "source": [
    "**Analysis** <br>\n",
    "1. Ada 60.000 data training dan 10.000 data uji dengan ukuran 28x28 piksel\n",
    "2. Ada 9 label pada kelas target yaitu dari label angk 0 sampai 9\n",
    "3. Ukuran dimensi dataset MNIST cukup kecil, yaitu 28x28. Dataset di dunia nyata mungkin saja tidak serapi ini dan perlu dilakukan preprocessing"
   ]
  },
  {
   "cell_type": "markdown",
   "id": "4c986383",
   "metadata": {},
   "source": [
    "# Explore Data\n",
    "***\n",
    "Plotting one data from array to image"
   ]
  },
  {
   "cell_type": "code",
   "execution_count": 15,
   "id": "22003c82",
   "metadata": {},
   "outputs": [
    {
     "data": {
      "image/png": "[encoded data removed]",
      "text/plain": [
       "<Figure size 432x288 with 1 Axes>"
      ]
     },
     "metadata": {
      "needs_background": "light"
     },
     "output_type": "display_data"
    },
    {
     "data": {
      "image/png": "[encoded data removed]",
      "text/plain": [
       "<Figure size 432x288 with 1 Axes>"
      ]
     },
     "metadata": {
      "needs_background": "light"
     },
     "output_type": "display_data"
    },
    {
     "data": {
      "image/png": "[encoded data removed]",
      "text/plain": [
       "<Figure size 432x288 with 1 Axes>"
      ]
     },
     "metadata": {
      "needs_background": "light"
     },
     "output_type": "display_data"
    },
    {
     "data": {
      "image/png": "[encoded data removed]",
      "text/plain": [
       "<Figure size 432x288 with 1 Axes>"
      ]
     },
     "metadata": {
      "needs_background": "light"
     },
     "output_type": "display_data"
    },
    {
     "data": {
      "image/png": "[encoded data removed]",
      "text/plain": [
       "<Figure size 432x288 with 1 Axes>"
      ]
     },
     "metadata": {
      "needs_background": "light"
     },
     "output_type": "display_data"
    }
   ],
   "source": [
    "for i in range(5):\n",
    "    plt.imshow(X_train[i])\n",
    "    plt.show()"
   ]
  },
  {
   "cell_type": "markdown",
   "id": "446d0de4",
   "metadata": {},
   "source": [
    "# Data Preprocessing"
   ]
  },
  {
   "cell_type": "markdown",
   "id": "388d98ad",
   "metadata": {},
   "source": [
    "## Convert image to grayscale"
   ]
  },
  {
   "cell_type": "code",
   "execution_count": 17,
   "id": "5636b9bf",
   "metadata": {},
   "outputs": [],
   "source": [
    "to_gray_scale = 1\n",
    "X_train = X_train.reshape(n_sampel_train, 28, 28, to_gray_scale)\n",
    "X_test = X_test.reshape(n_sampel_test, 28, 28, to_gray_scale)"
   ]
  },
  {
   "cell_type": "markdown",
   "id": "9f8a8adf",
   "metadata": {},
   "source": [
    "## One Hot Encoding Target Variable"
   ]
  },
  {
   "cell_type": "code",
   "execution_count": 22,
   "id": "0528ff56",
   "metadata": {},
   "outputs": [],
   "source": [
    "y_train = to_categorical(y_train)\n",
    "y_test = to_categorical(y_test)"
   ]
  },
  {
   "cell_type": "code",
   "execution_count": 26,
   "id": "f58b6e18",
   "metadata": {},
   "outputs": [
    {
     "data": {
      "text/plain": [
       "array([0., 0., 0., 0., 0., 1., 0., 0., 0., 0.], dtype=float32)"
      ]
     },
     "execution_count": 26,
     "metadata": {},
     "output_type": "execute_result"
    }
   ],
   "source": [
    "y_train[0]"
   ]
  },
  {
   "cell_type": "markdown",
   "id": "36f5c416",
   "metadata": {},
   "source": [
    "Label dari y_train[0] --> 5, jadi array OHE nya akan aktif di index ke 6"
   ]
  },
  {
   "cell_type": "markdown",
   "id": "b4bd6297",
   "metadata": {},
   "source": [
    "# Modelling"
   ]
  },
  {
   "cell_type": "code",
   "execution_count": 27,
   "id": "12e2f35b",
   "metadata": {},
   "outputs": [],
   "source": [
    "from keras.models import Sequential\n",
    "from keras.layers import Dense, Conv2D, Flatten"
   ]
  },
  {
   "cell_type": "code",
   "execution_count": 29,
   "id": "a7475b7f",
   "metadata": {},
   "outputs": [],
   "source": [
    "# create model\n",
    "model = Sequential()"
   ]
  },
  {
   "cell_type": "code",
   "execution_count": 32,
   "id": "669db62a",
   "metadata": {},
   "outputs": [],
   "source": [
    "# add model layers\n",
    "model.add(\n",
    "    Conv2D(64, kernel_size=3, activation='relu', input_shape=(28,28,1))\n",
    ")\n",
    "model.add(\n",
    "    Conv2D(32, kernel_size=3, activation='relu')\n",
    ")\n",
    "model.add(Flatten())\n",
    "model.add(\n",
    "    Dense(10, activation='softmax')\n",
    ")"
   ]
  },
  {
   "cell_type": "markdown",
   "id": "0e583ab9",
   "metadata": {},
   "source": [
    "**Analysis** <br>\n",
    "1. **Sequential** memungkinkan membangun model layer per layer\n",
    "2. **add()** adalah fungsi yang digunakan untuk menambahkan layer ke model\n",
    "3. **Conv2D** adalah layer yang digunakan untuk menerima input image dan memperlakukan sebagai matriks 2 dimensi\n",
    "- *64* dan *32* adalah jumlah node di setiap layer. Jumlah ini bisa diubah-ubah bergantung dari dataset yang digunakan\n",
    "4. **Kernel Size** adalah *filter matrix* dari convolution. Kernel bernilai *3* artinya filter matrix yang digunakan adalah 3x3. X_train[0] memiliki ukuran (60000, 28, 28)\n",
    "5. **Activation** adalah fungsi aktivasi untuk setiap layer. *ReLU* terbukti sebagai fungsi aktivasi yang cukup andal di neural networks\n",
    "6. **Input shape** dimensi dari data input yang diterima. X_train telah direshape untuk menjadi grayscale sebelumnya, yaitu dengan ukuran menjadi (28,28,1)\n",
    "7. **Flatten** adalah suatu lapisan yang menghubungkan *Conv2D* dengan *Dense Layer*\n",
    "8. **Dense** adalah lapisan output dari neural networks. Nilai 10 pada Dense menunjuk jumlah label kelas yang berjumlah 10 dari (0-9)\n",
    "- *Softmax* pada lapisan output menghasilkan luaran berupa probabilitas. Semakin besar probabilitas pada suatu node di lapisan output, maka label tersebut yang akan menjadi pemenang"
   ]
  },
  {
   "cell_type": "markdown",
   "id": "96a0e342",
   "metadata": {},
   "source": [
    "## Meng*compile* model CNN\n",
    "***\n",
    "Dalam melakukan *compile* ada tiga parameter yang digunakan: **optimizer, loss, metrics** <br>\n",
    "1. **Optimizer** mengkontrol perubahan nilai dari learning rate dalam fase training\n",
    "2. **categorical_crossentropy** digunakan untuk menghitung loss function\n",
    "3. **Accuracy** digunakan sebagai matriks ukuran performa model"
   ]
  },
  {
   "cell_type": "code",
   "execution_count": 33,
   "id": "fa7fcf59",
   "metadata": {},
   "outputs": [],
   "source": [
    "model.compile(\n",
    "    optimizer='adam',\n",
    "    loss='categorical_crossentropy',\n",
    "    metrics=['accuracy']\n",
    ")"
   ]
  },
  {
   "cell_type": "markdown",
   "id": "7284e0d4",
   "metadata": {},
   "source": [
    "## Train model"
   ]
  },
  {
   "cell_type": "code",
   "execution_count": 34,
   "id": "6e5ff300",
   "metadata": {},
   "outputs": [
    {
     "name": "stdout",
     "output_type": "stream",
     "text": [
      "Epoch 1/3\n",
      "1875/1875 [==============================] - 105s 56ms/step - loss: 0.2646 - accuracy: 0.9482 - val_loss: 0.0967 - val_accuracy: 0.9709\n",
      "Epoch 2/3\n",
      "1875/1875 [==============================] - 124s 66ms/step - loss: 0.0699 - accuracy: 0.9781 - val_loss: 0.0883 - val_accuracy: 0.9736\n",
      "Epoch 3/3\n",
      "1875/1875 [==============================] - 164s 87ms/step - loss: 0.0472 - accuracy: 0.9858 - val_loss: 0.0789 - val_accuracy: 0.9777\n"
     ]
    },
    {
     "data": {
      "text/plain": [
       "<keras.callbacks.History at 0x17b32f8b520>"
      ]
     },
     "execution_count": 34,
     "metadata": {},
     "output_type": "execute_result"
    }
   ],
   "source": [
    "model.fit(x=X_train, y=y_train, validation_data=(X_test,y_test), epochs=3)"
   ]
  },
  {
   "cell_type": "markdown",
   "id": "97832fff",
   "metadata": {},
   "source": [
    "## Save Model"
   ]
  },
  {
   "cell_type": "code",
   "execution_count": 35,
   "id": "f1c4bd70",
   "metadata": {},
   "outputs": [],
   "source": [
    "model.save('models/model_trained.h5')"
   ]
  },
  {
   "cell_type": "markdown",
   "id": "83541736",
   "metadata": {},
   "source": [
    "# Model Inference"
   ]
  },
  {
   "cell_type": "code",
   "execution_count": 37,
   "id": "0e31a528",
   "metadata": {},
   "outputs": [],
   "source": [
    "# load model\n",
    "model = load_model('models/model_trained.h5')"
   ]
  },
  {
   "cell_type": "code",
   "execution_count": 43,
   "id": "989bf86e",
   "metadata": {},
   "outputs": [
    {
     "name": "stdout",
     "output_type": "stream",
     "text": [
      "Predicted Label =  7\n",
      "Predicted Label =  2\n",
      "Predicted Label =  1\n",
      "Predicted Label =  0\n"
     ]
    }
   ],
   "source": [
    "for predict in model.predict(X_test[:4]):\n",
    "    print(\"Predicted Label = \",np.argmax(predict))"
   ]
  },
  {
   "cell_type": "code",
   "execution_count": 46,
   "id": "ed41e06d",
   "metadata": {},
   "outputs": [
    {
     "name": "stdout",
     "output_type": "stream",
     "text": [
      "True Label =  7\n",
      "True Label =  2\n",
      "True Label =  1\n",
      "True Label =  0\n"
     ]
    }
   ],
   "source": [
    "for true_label in y_test[:4]:\n",
    "    print(\"True Label = \", np.argmax(true_label))"
   ]
  },
  {
   "cell_type": "code",
   "execution_count": null,
   "id": "e6c61241",
   "metadata": {},
   "outputs": [],
   "source": []
  }
 ],
 "metadata": {
  "kernelspec": {
   "display_name": "mnist_classification",
   "language": "python",
   "name": "mnist_classification"
  },
  "language_info": {
   "codemirror_mode": {
    "name": "ipython",
    "version": 3
   },
   "file_extension": ".py",
   "mimetype": "text/x-python",
   "name": "python",
   "nbconvert_exporter": "python",
   "pygments_lexer": "ipython3",
   "version": "3.8.5"
  },
  "toc": {
   "base_numbering": 1,
   "nav_menu": {},
   "number_sections": true,
   "sideBar": true,
   "skip_h1_title": false,
   "title_cell": "Table of Contents",
   "title_sidebar": "Contents",
   "toc_cell": false,
   "toc_position": {},
   "toc_section_display": true,
   "toc_window_display": true
  }
 },
 "nbformat": 4,
 "nbformat_minor": 5
}
